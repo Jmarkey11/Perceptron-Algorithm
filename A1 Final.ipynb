{
 "cells": [
  {
   "cell_type": "code",
   "execution_count": 1,
   "metadata": {},
   "outputs": [],
   "source": [
    "# Jonathan Markey - 1805361, 29/09/23\n",
    "\n",
    "import numpy as np\n",
    "import pandas as pd\n",
    "import torch\n",
    "import matplotlib.pyplot as plt\n",
    "from sklearn.model_selection import train_test_split\n",
    "from sklearn.metrics import confusion_matrix, roc_auc_score, roc_curve, auc, accuracy_score, recall_score, precision_score, f1_score\n",
    "from tabulate import tabulate\n",
    "from tqdm import tqdm\n",
    "\n",
    "%matplotlib inline"
   ]
  },
  {
   "cell_type": "code",
   "execution_count": 2,
   "metadata": {},
   "outputs": [
    {
     "name": "stderr",
     "output_type": "stream",
     "text": [
      "c:\\Users\\jono_\\UniWork\\.conda\\Lib\\site-packages\\numpy\\core\\fromnumeric.py:84: FutureWarning: In a future version, DataFrame.min(axis=None) will return a scalar min over the entire DataFrame. To retain the old behavior, use 'frame.min(axis=0)' or just 'frame.min()'\n",
      "  return reduction(axis=axis, out=out, **passkwargs)\n",
      "c:\\Users\\jono_\\UniWork\\.conda\\Lib\\site-packages\\numpy\\core\\fromnumeric.py:84: FutureWarning: In a future version, DataFrame.max(axis=None) will return a scalar max over the entire DataFrame. To retain the old behavior, use 'frame.max(axis=0)' or just 'frame.max()'\n",
      "  return reduction(axis=axis, out=out, **passkwargs)\n",
      "c:\\Users\\jono_\\UniWork\\.conda\\Lib\\site-packages\\numpy\\core\\fromnumeric.py:84: FutureWarning: In a future version, DataFrame.min(axis=None) will return a scalar min over the entire DataFrame. To retain the old behavior, use 'frame.min(axis=0)' or just 'frame.min()'\n",
      "  return reduction(axis=axis, out=out, **passkwargs)\n",
      "c:\\Users\\jono_\\UniWork\\.conda\\Lib\\site-packages\\numpy\\core\\fromnumeric.py:84: FutureWarning: In a future version, DataFrame.min(axis=None) will return a scalar min over the entire DataFrame. To retain the old behavior, use 'frame.min(axis=0)' or just 'frame.min()'\n",
      "  return reduction(axis=axis, out=out, **passkwargs)\n",
      "c:\\Users\\jono_\\UniWork\\.conda\\Lib\\site-packages\\numpy\\core\\fromnumeric.py:84: FutureWarning: In a future version, DataFrame.max(axis=None) will return a scalar max over the entire DataFrame. To retain the old behavior, use 'frame.max(axis=0)' or just 'frame.max()'\n",
      "  return reduction(axis=axis, out=out, **passkwargs)\n",
      "c:\\Users\\jono_\\UniWork\\.conda\\Lib\\site-packages\\numpy\\core\\fromnumeric.py:84: FutureWarning: In a future version, DataFrame.min(axis=None) will return a scalar min over the entire DataFrame. To retain the old behavior, use 'frame.min(axis=0)' or just 'frame.min()'\n",
      "  return reduction(axis=axis, out=out, **passkwargs)\n",
      "c:\\Users\\jono_\\UniWork\\.conda\\Lib\\site-packages\\numpy\\core\\fromnumeric.py:84: FutureWarning: In a future version, DataFrame.min(axis=None) will return a scalar min over the entire DataFrame. To retain the old behavior, use 'frame.min(axis=0)' or just 'frame.min()'\n",
      "  return reduction(axis=axis, out=out, **passkwargs)\n",
      "c:\\Users\\jono_\\UniWork\\.conda\\Lib\\site-packages\\numpy\\core\\fromnumeric.py:84: FutureWarning: In a future version, DataFrame.max(axis=None) will return a scalar max over the entire DataFrame. To retain the old behavior, use 'frame.max(axis=0)' or just 'frame.max()'\n",
      "  return reduction(axis=axis, out=out, **passkwargs)\n",
      "c:\\Users\\jono_\\UniWork\\.conda\\Lib\\site-packages\\numpy\\core\\fromnumeric.py:84: FutureWarning: In a future version, DataFrame.min(axis=None) will return a scalar min over the entire DataFrame. To retain the old behavior, use 'frame.min(axis=0)' or just 'frame.min()'\n",
      "  return reduction(axis=axis, out=out, **passkwargs)\n",
      "c:\\Users\\jono_\\UniWork\\.conda\\Lib\\site-packages\\numpy\\core\\fromnumeric.py:84: FutureWarning: In a future version, DataFrame.min(axis=None) will return a scalar min over the entire DataFrame. To retain the old behavior, use 'frame.min(axis=0)' or just 'frame.min()'\n",
      "  return reduction(axis=axis, out=out, **passkwargs)\n",
      "c:\\Users\\jono_\\UniWork\\.conda\\Lib\\site-packages\\numpy\\core\\fromnumeric.py:84: FutureWarning: In a future version, DataFrame.max(axis=None) will return a scalar max over the entire DataFrame. To retain the old behavior, use 'frame.max(axis=0)' or just 'frame.max()'\n",
      "  return reduction(axis=axis, out=out, **passkwargs)\n",
      "c:\\Users\\jono_\\UniWork\\.conda\\Lib\\site-packages\\numpy\\core\\fromnumeric.py:84: FutureWarning: In a future version, DataFrame.min(axis=None) will return a scalar min over the entire DataFrame. To retain the old behavior, use 'frame.min(axis=0)' or just 'frame.min()'\n",
      "  return reduction(axis=axis, out=out, **passkwargs)\n",
      "c:\\Users\\jono_\\UniWork\\.conda\\Lib\\site-packages\\numpy\\core\\fromnumeric.py:84: FutureWarning: In a future version, DataFrame.min(axis=None) will return a scalar min over the entire DataFrame. To retain the old behavior, use 'frame.min(axis=0)' or just 'frame.min()'\n",
      "  return reduction(axis=axis, out=out, **passkwargs)\n",
      "c:\\Users\\jono_\\UniWork\\.conda\\Lib\\site-packages\\numpy\\core\\fromnumeric.py:84: FutureWarning: In a future version, DataFrame.max(axis=None) will return a scalar max over the entire DataFrame. To retain the old behavior, use 'frame.max(axis=0)' or just 'frame.max()'\n",
      "  return reduction(axis=axis, out=out, **passkwargs)\n",
      "c:\\Users\\jono_\\UniWork\\.conda\\Lib\\site-packages\\numpy\\core\\fromnumeric.py:84: FutureWarning: In a future version, DataFrame.min(axis=None) will return a scalar min over the entire DataFrame. To retain the old behavior, use 'frame.min(axis=0)' or just 'frame.min()'\n",
      "  return reduction(axis=axis, out=out, **passkwargs)\n",
      "c:\\Users\\jono_\\UniWork\\.conda\\Lib\\site-packages\\numpy\\core\\fromnumeric.py:84: FutureWarning: In a future version, DataFrame.min(axis=None) will return a scalar min over the entire DataFrame. To retain the old behavior, use 'frame.min(axis=0)' or just 'frame.min()'\n",
      "  return reduction(axis=axis, out=out, **passkwargs)\n",
      "c:\\Users\\jono_\\UniWork\\.conda\\Lib\\site-packages\\numpy\\core\\fromnumeric.py:84: FutureWarning: In a future version, DataFrame.max(axis=None) will return a scalar max over the entire DataFrame. To retain the old behavior, use 'frame.max(axis=0)' or just 'frame.max()'\n",
      "  return reduction(axis=axis, out=out, **passkwargs)\n",
      "c:\\Users\\jono_\\UniWork\\.conda\\Lib\\site-packages\\numpy\\core\\fromnumeric.py:84: FutureWarning: In a future version, DataFrame.min(axis=None) will return a scalar min over the entire DataFrame. To retain the old behavior, use 'frame.min(axis=0)' or just 'frame.min()'\n",
      "  return reduction(axis=axis, out=out, **passkwargs)\n",
      "c:\\Users\\jono_\\UniWork\\.conda\\Lib\\site-packages\\numpy\\core\\fromnumeric.py:84: FutureWarning: In a future version, DataFrame.min(axis=None) will return a scalar min over the entire DataFrame. To retain the old behavior, use 'frame.min(axis=0)' or just 'frame.min()'\n",
      "  return reduction(axis=axis, out=out, **passkwargs)\n",
      "c:\\Users\\jono_\\UniWork\\.conda\\Lib\\site-packages\\numpy\\core\\fromnumeric.py:84: FutureWarning: In a future version, DataFrame.max(axis=None) will return a scalar max over the entire DataFrame. To retain the old behavior, use 'frame.max(axis=0)' or just 'frame.max()'\n",
      "  return reduction(axis=axis, out=out, **passkwargs)\n",
      "c:\\Users\\jono_\\UniWork\\.conda\\Lib\\site-packages\\numpy\\core\\fromnumeric.py:84: FutureWarning: In a future version, DataFrame.min(axis=None) will return a scalar min over the entire DataFrame. To retain the old behavior, use 'frame.min(axis=0)' or just 'frame.min()'\n",
      "  return reduction(axis=axis, out=out, **passkwargs)\n",
      "c:\\Users\\jono_\\UniWork\\.conda\\Lib\\site-packages\\numpy\\core\\fromnumeric.py:84: FutureWarning: In a future version, DataFrame.min(axis=None) will return a scalar min over the entire DataFrame. To retain the old behavior, use 'frame.min(axis=0)' or just 'frame.min()'\n",
      "  return reduction(axis=axis, out=out, **passkwargs)\n",
      "c:\\Users\\jono_\\UniWork\\.conda\\Lib\\site-packages\\numpy\\core\\fromnumeric.py:84: FutureWarning: In a future version, DataFrame.max(axis=None) will return a scalar max over the entire DataFrame. To retain the old behavior, use 'frame.max(axis=0)' or just 'frame.max()'\n",
      "  return reduction(axis=axis, out=out, **passkwargs)\n",
      "c:\\Users\\jono_\\UniWork\\.conda\\Lib\\site-packages\\numpy\\core\\fromnumeric.py:84: FutureWarning: In a future version, DataFrame.min(axis=None) will return a scalar min over the entire DataFrame. To retain the old behavior, use 'frame.min(axis=0)' or just 'frame.min()'\n",
      "  return reduction(axis=axis, out=out, **passkwargs)\n",
      "c:\\Users\\jono_\\UniWork\\.conda\\Lib\\site-packages\\numpy\\core\\fromnumeric.py:84: FutureWarning: In a future version, DataFrame.min(axis=None) will return a scalar min over the entire DataFrame. To retain the old behavior, use 'frame.min(axis=0)' or just 'frame.min()'\n",
      "  return reduction(axis=axis, out=out, **passkwargs)\n",
      "c:\\Users\\jono_\\UniWork\\.conda\\Lib\\site-packages\\numpy\\core\\fromnumeric.py:84: FutureWarning: In a future version, DataFrame.max(axis=None) will return a scalar max over the entire DataFrame. To retain the old behavior, use 'frame.max(axis=0)' or just 'frame.max()'\n",
      "  return reduction(axis=axis, out=out, **passkwargs)\n",
      "c:\\Users\\jono_\\UniWork\\.conda\\Lib\\site-packages\\numpy\\core\\fromnumeric.py:84: FutureWarning: In a future version, DataFrame.min(axis=None) will return a scalar min over the entire DataFrame. To retain the old behavior, use 'frame.min(axis=0)' or just 'frame.min()'\n",
      "  return reduction(axis=axis, out=out, **passkwargs)\n"
     ]
    }
   ],
   "source": [
    "data = pd.read_csv('diabetes.csv') # Importing data as csv\n",
    "\n",
    "cols = data.columns\n",
    "\n",
    "for i in cols: # preprocessing to normalise between [-1,1]\n",
    "    data[cols] = (data[cols]-np.min(data[cols]))/(np.max(data[cols])-np.min(data[cols]))\n",
    "    data[cols] = 2*data[cols]-1\n",
    "\n",
    "outcome = data['Outcome'].values\n",
    "data = data.drop(\"Outcome\", axis = 1)\n",
    "data = data.values\n",
    "\n",
    "x_train, x_test, y_train, y_test = train_test_split(data, outcome, test_size = 0.3, random_state = 1234) # train/test split at 70/30 ratio\n",
    "\n",
    "x_train = torch.tensor(x_train, dtype = torch.float32)\n",
    "x_test = torch.tensor(x_test, dtype = torch.float32)\n",
    "y_train = torch.tensor(y_train, dtype = torch.float32).view(-1, 1)\n",
    "y_test = torch.tensor(y_test, dtype = torch.float32).view(-1, 1)"
   ]
  },
  {
   "cell_type": "code",
   "execution_count": 3,
   "metadata": {},
   "outputs": [],
   "source": [
    "class Perceptron():\n",
    "    def __init__(self, n_features): # initialisation of the Perceptron class. Input of number of features which equals 8 in this example\n",
    "        self.weights = torch.rand(n_features, 1, dtype=torch.float32) # Weights and bias initialised as random values\n",
    "        self.bias = torch.rand(1, dtype=torch.float32)\n",
    "        \n",
    "    def forward(self, x_data): # The forward function solves the linear equation\n",
    "        linear_eq = torch.mm(x_data, self.weights) + self.bias # solves the linear equation W_i * X_i + b\n",
    "        activation = torch.sign(linear_eq) # activation function to return binary output\n",
    "        return activation, linear_eq\n",
    "    \n",
    "    def backward(self, x_data, y_data, learning_rate): # Backwards propagation/training\n",
    "        pred, lin_eq = self.forward(x_data) # getting results from the forward pass\n",
    "        \n",
    "        loss = torch.clamp(-(y_data)*lin_eq, min=0) # calculating perceptron loss\n",
    "        perceptron_loss = torch.mean(loss)\n",
    "        \n",
    "        temp = torch.where(y_data == pred, 0, 1) # Xor gate\n",
    "        \n",
    "        gradient_weights = torch.mm(x_data.t(), -y_data * temp) # implamenting gradient descent to optimise the weights and bias\n",
    "        self.weights -= learning_rate * gradient_weights\n",
    "        gradient_bias = torch.sum(-y_data * temp)\n",
    "        self.bias -= learning_rate * gradient_bias\n",
    "        \n",
    "        return perceptron_loss.item()  # Returning the loss value so that it can be graphed"
   ]
  },
  {
   "cell_type": "code",
   "execution_count": 4,
   "metadata": {},
   "outputs": [
    {
     "name": "stderr",
     "output_type": "stream",
     "text": [
      "100%|██████████| 1000/1000 [00:00<00:00, 7685.34it/s]\n"
     ]
    }
   ],
   "source": [
    "torch.manual_seed(999) # setting seeed value for reproduceability\n",
    "n_features = len(x_train[0])\n",
    "learning_rate = 0.01\n",
    "\n",
    "model = Perceptron(n_features) # defining perceptron class\n",
    "\n",
    "n_iterations = 1000\n",
    "\n",
    "loss_track = [] # for tracking mean perceptron loss\n",
    "\n",
    "for i in tqdm(range(n_iterations)): # training loop for model\n",
    "    loss_value = model.backward(x_train, y_train, learning_rate) \n",
    "    if i % 10 == 0:\n",
    "        loss_track.append(loss_value)\n",
    "        \n",
    "prediction_train, lq_train = model.forward(x_train) # predicting training data\n",
    "prediction_test, lq_test = model.forward(x_test) # predicting testing data\n",
    "\n",
    "loss_track = np.array(loss_track)\n",
    "x_axis = [i for i in range(len(loss_track))]"
   ]
  },
  {
   "cell_type": "code",
   "execution_count": 5,
   "metadata": {},
   "outputs": [
    {
     "data": {
      "text/plain": [
       "Text(0.5, 1.0, 'Perceptron Loss at N Iterations')"
      ]
     },
     "execution_count": 5,
     "metadata": {},
     "output_type": "execute_result"
    },
    {
     "data": {
      "image/png": "[encoded data removed]",
      "text/plain": [
       "<Figure size 640x480 with 1 Axes>"
      ]
     },
     "metadata": {},
     "output_type": "display_data"
    }
   ],
   "source": [
    "plt.plot(x_axis, loss_track) # plotting mean perceptron loss\n",
    "plt.xlabel(\"Number of Iterations * 10\")\n",
    "plt.ylabel(\"Mean Perceptron Loss\")\n",
    "plt.title(\"Perceptron Loss at N Iterations\")"
   ]
  },
  {
   "cell_type": "code",
   "execution_count": 6,
   "metadata": {},
   "outputs": [
    {
     "name": "stdout",
     "output_type": "stream",
     "text": [
      "Training Confusion Matrix:\n",
      "           Predicted -1    Predicted 1\n",
      "-------  --------------  -------------\n",
      "True -1             344              9\n",
      "True 1              139             45 \n",
      "\n",
      "Training Evaluation\n",
      "Accuracy: 0.7243947858472998\n",
      "Specificity: 0.9745042492917847\n",
      "Sensitivity: 0.24456521739130435\n",
      "Precision: 0.8333333333333334\n",
      "F1-Score: 0.3781512605042017\n",
      "AUC ROC: 0.6095347333415445\n"
     ]
    }
   ],
   "source": [
    "# Evaluation stats for training data\n",
    "\n",
    "confusion = confusion_matrix(y_train, prediction_train)\n",
    "headers = [\"Predicted -1\", \"Predicted 1\"]\n",
    "table = [[\"True -1\", confusion[0, 0], confusion[0, 1]],\n",
    "         [\"True 1\", confusion[1, 0], confusion[1, 1]]]\n",
    "\n",
    "print(\"Training Confusion Matrix:\")\n",
    "print(tabulate(table, headers),'\\n')\n",
    "\n",
    "print(\"Training Evaluation\")\n",
    "accuracy_train = accuracy_score(y_train, prediction_train)\n",
    "spec_train = confusion[0, 0] / (confusion[0, 0] + confusion[0, 1])\n",
    "sens_train = recall_score(y_train, prediction_train)\n",
    "pre_train = precision_score(y_train, prediction_train)\n",
    "f1_train = f1_score(y_train, prediction_train)\n",
    "print(f\"Accuracy: {accuracy_train}\")\n",
    "print(f\"Specificity: {spec_train}\")\n",
    "print(f\"Sensitivity: {sens_train}\")\n",
    "print(f\"Precision: {pre_train}\")\n",
    "print(f\"F1-Score: {f1_train}\")\n",
    "auc_roc_train = roc_auc_score(y_train, prediction_train)\n",
    "print(f\"AUC ROC: {auc_roc_train}\")"
   ]
  },
  {
   "cell_type": "code",
   "execution_count": 7,
   "metadata": {},
   "outputs": [
    {
     "name": "stdout",
     "output_type": "stream",
     "text": [
      "Testing Confusion Matrix:\n",
      "           Predicted -1    Predicted 1\n",
      "-------  --------------  -------------\n",
      "True -1             145              2\n",
      "True 1               62             22 \n",
      "\n",
      "Testing Evaluation\n",
      "Accuracy: 0.7229437229437229\n",
      "Specificity: 0.9863945578231292\n",
      "Sensitivity: 0.2619047619047619\n",
      "Precision: 0.9166666666666666\n",
      "F1-Score: 0.4074074074074074\n",
      "AUC ROC: 0.6241496598639455\n"
     ]
    }
   ],
   "source": [
    "# Evaluation stats for testing data\n",
    "\n",
    "confusion = confusion_matrix(y_test, prediction_test)\n",
    "headers = [\"Predicted -1\", \"Predicted 1\"]\n",
    "table = [[\"True -1\", confusion[0, 0], confusion[0, 1]],\n",
    "         [\"True 1\", confusion[1, 0], confusion[1, 1]]]\n",
    "\n",
    "print(\"Testing Confusion Matrix:\")\n",
    "print(tabulate(table, headers),'\\n')\n",
    "\n",
    "print(\"Testing Evaluation\")\n",
    "accuracy_test = accuracy_score(y_test, prediction_test)\n",
    "spec_test = confusion[0, 0] / (confusion[0, 0] + confusion[0, 1])\n",
    "sens_test = recall_score(y_test, prediction_test)\n",
    "pre_test = precision_score(y_test, prediction_test)\n",
    "f1_test = f1_score(y_test, prediction_test)\n",
    "print(f\"Accuracy: {accuracy_test}\")\n",
    "print(f\"Specificity: {spec_test}\")\n",
    "print(f\"Sensitivity: {sens_test}\")\n",
    "print(f\"Precision: {pre_test}\")\n",
    "print(f\"F1-Score: {f1_test}\")\n",
    "auc_roc_test = roc_auc_score(y_test, prediction_test)\n",
    "print(f\"AUC ROC: {auc_roc_test}\")"
   ]
  },
  {
   "cell_type": "code",
   "execution_count": 8,
   "metadata": {},
   "outputs": [
    {
     "name": "stdout",
     "output_type": "stream",
     "text": [
      "               Training    Testing\n",
      "-----------  ----------  ---------\n",
      "Accuracy       0.724395   0.722944\n",
      "Specificity    0.974504   0.986395\n",
      "Sensitivity    0.244565   0.261905\n",
      "Precision      0.833333   0.916667\n",
      "F1-Score       0.378151   0.407407\n",
      "AUC-ROC        0.609535   0.62415\n"
     ]
    }
   ],
   "source": [
    "table = [[\"Accuracy\", accuracy_train, accuracy_test],[\"Specificity\",spec_train, spec_test],[\"Sensitivity\",sens_train,sens_test],\n",
    "         [\"Precision\", pre_train, pre_test],[\"F1-Score\", f1_train, f1_test],\n",
    "         [\"AUC-ROC\",auc_roc_train, auc_roc_test]]\n",
    "headers = [\"Training\", \"Testing\"]\n",
    "print(tabulate(table, headers))"
   ]
  }
 ],
 "metadata": {
  "kernelspec": {
   "display_name": "Python 3",
   "language": "python",
   "name": "python3"
  },
  "language_info": {
   "codemirror_mode": {
    "name": "ipython",
    "version": 3
   },
   "file_extension": ".py",
   "mimetype": "text/x-python",
   "name": "python",
   "nbconvert_exporter": "python",
   "pygments_lexer": "ipython3",
   "version": "3.11.2"
  },
  "orig_nbformat": 4
 },
 "nbformat": 4,
 "nbformat_minor": 2
}
